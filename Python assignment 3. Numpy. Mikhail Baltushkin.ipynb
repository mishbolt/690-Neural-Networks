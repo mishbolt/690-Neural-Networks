{
 "cells": [
  {
   "cell_type": "markdown",
   "id": "0a1427e9",
   "metadata": {},
   "source": [
    "# Generate numpy arrays\n",
    "questions from https://medium.com/jungletronics/numpy-jupyter-notebook-1182f78ab4e1"
   ]
  },
  {
   "cell_type": "markdown",
   "id": "13427695",
   "metadata": {},
   "source": [
    "1. Creates an array of integers from 10 to 50"
   ]
  },
  {
   "cell_type": "code",
   "execution_count": 1,
   "id": "cea4d652",
   "metadata": {},
   "outputs": [
    {
     "data": {
      "text/plain": [
       "array([10, 11, 12, 13, 14, 15, 16, 17, 18, 19, 20, 21, 22, 23, 24, 25, 26,\n",
       "       27, 28, 29, 30, 31, 32, 33, 34, 35, 36, 37, 38, 39, 40, 41, 42, 43,\n",
       "       44, 45, 46, 47, 48, 49, 50])"
      ]
     },
     "execution_count": 1,
     "metadata": {},
     "output_type": "execute_result"
    }
   ],
   "source": [
    "import numpy as np\n",
    "a=np.arange(10,51)\n",
    "a"
   ]
  },
  {
   "cell_type": "markdown",
   "id": "0896f398",
   "metadata": {},
   "source": [
    "2. Create an array of even integers from 10 to 50"
   ]
  },
  {
   "cell_type": "code",
   "execution_count": 3,
   "id": "3b35d0ea",
   "metadata": {},
   "outputs": [
    {
     "data": {
      "text/plain": [
       "array([10, 12, 14, 16, 18, 20, 22, 24, 26, 28, 30, 32, 34, 36, 38, 40, 42,\n",
       "       44, 46, 48, 50])"
      ]
     },
     "execution_count": 3,
     "metadata": {},
     "output_type": "execute_result"
    }
   ],
   "source": [
    "a=np.arange(10,51,2)\n",
    "a"
   ]
  },
  {
   "cell_type": "markdown",
   "id": "05747597",
   "metadata": {},
   "source": [
    "3. Creates a 3x3 matrix with values being 1,2,3,...,9"
   ]
  },
  {
   "cell_type": "code",
   "execution_count": 8,
   "id": "bb1fbddb",
   "metadata": {},
   "outputs": [
    {
     "name": "stdout",
     "output_type": "stream",
     "text": [
      "[[1 2 3]\n",
      " [4 5 6]\n",
      " [7 8 9]]\n"
     ]
    }
   ],
   "source": [
    "A=np.arange(1,10).reshape(3,3)\n",
    "print(A)"
   ]
  },
  {
   "cell_type": "markdown",
   "id": "54a62b07",
   "metadata": {},
   "source": [
    "4. Create an array of 20 linearly spaced points between 0 and 1."
   ]
  },
  {
   "cell_type": "code",
   "execution_count": 11,
   "id": "b12ee43f",
   "metadata": {},
   "outputs": [
    {
     "data": {
      "text/plain": [
       "array([0.        , 0.05263158, 0.10526316, 0.15789474, 0.21052632,\n",
       "       0.26315789, 0.31578947, 0.36842105, 0.42105263, 0.47368421,\n",
       "       0.52631579, 0.57894737, 0.63157895, 0.68421053, 0.73684211,\n",
       "       0.78947368, 0.84210526, 0.89473684, 0.94736842, 1.        ])"
      ]
     },
     "execution_count": 11,
     "metadata": {},
     "output_type": "execute_result"
    }
   ],
   "source": [
    "a=np.linspace(0,1,20)\n",
    "print(a)"
   ]
  },
  {
   "cell_type": "markdown",
   "id": "deae8627",
   "metadata": {},
   "source": [
    "5. Use NumPy to generate an array of 25 random numbers sampled from a standard normal distribution."
   ]
  },
  {
   "cell_type": "code",
   "execution_count": 15,
   "id": "68eefc86",
   "metadata": {},
   "outputs": [
    {
     "name": "stdout",
     "output_type": "stream",
     "text": [
      "[-2.63616651e-03 -1.46389958e+00 -3.84367804e-01  3.02240940e+00\n",
      " -4.12252448e-01  5.37173753e-01 -1.44239282e+00 -4.31546229e-01\n",
      " -5.68979222e-02 -8.88014341e-01  1.46066248e+00  1.23752457e+00\n",
      "  8.53055554e-01 -6.52018540e-01 -2.81384227e+00 -4.33365827e-01\n",
      " -1.12460115e+00  2.34502560e-01 -5.83742566e-01 -3.88077731e-01\n",
      " -1.02947525e+00  2.51387987e-01 -1.26542150e-01 -5.00706020e-01\n",
      " -8.92655699e-01]\n"
     ]
    }
   ],
   "source": [
    "a=np.random.randn(25)\n",
    "print(a)"
   ]
  },
  {
   "cell_type": "markdown",
   "id": "ebe61cf1",
   "metadata": {},
   "source": [
    "6. Create a 10x10 matrix of 100 items spaced evenly at 0.01 steps ranged from 0.01 to 1。"
   ]
  },
  {
   "cell_type": "code",
   "execution_count": 16,
   "id": "056208a3",
   "metadata": {},
   "outputs": [
    {
     "name": "stdout",
     "output_type": "stream",
     "text": [
      "[[0.01 0.02 0.03 0.04 0.05 0.06 0.07 0.08 0.09 0.1 ]\n",
      " [0.11 0.12 0.13 0.14 0.15 0.16 0.17 0.18 0.19 0.2 ]\n",
      " [0.21 0.22 0.23 0.24 0.25 0.26 0.27 0.28 0.29 0.3 ]\n",
      " [0.31 0.32 0.33 0.34 0.35 0.36 0.37 0.38 0.39 0.4 ]\n",
      " [0.41 0.42 0.43 0.44 0.45 0.46 0.47 0.48 0.49 0.5 ]\n",
      " [0.51 0.52 0.53 0.54 0.55 0.56 0.57 0.58 0.59 0.6 ]\n",
      " [0.61 0.62 0.63 0.64 0.65 0.66 0.67 0.68 0.69 0.7 ]\n",
      " [0.71 0.72 0.73 0.74 0.75 0.76 0.77 0.78 0.79 0.8 ]\n",
      " [0.81 0.82 0.83 0.84 0.85 0.86 0.87 0.88 0.89 0.9 ]\n",
      " [0.91 0.92 0.93 0.94 0.95 0.96 0.97 0.98 0.99 1.  ]]\n"
     ]
    }
   ],
   "source": [
    "a=np.linspace(0.01,1,100).reshape(10,10)\n",
    "print(a)"
   ]
  },
  {
   "cell_type": "markdown",
   "id": "7f383175",
   "metadata": {},
   "source": [
    "# Indexing & slicing"
   ]
  },
  {
   "cell_type": "markdown",
   "id": "afcb77c0",
   "metadata": {},
   "source": [
    "Use this 2-Dimensional Array for this exercises"
   ]
  },
  {
   "cell_type": "code",
   "execution_count": 17,
   "id": "50275fcf",
   "metadata": {},
   "outputs": [
    {
     "name": "stdout",
     "output_type": "stream",
     "text": [
      "[[ 1  2  3  4  5]\n",
      " [ 6  7  8  9 10]\n",
      " [11 12 13 14 15]\n",
      " [16 17 18 19 20]\n",
      " [21 22 23 24 25]]\n"
     ]
    }
   ],
   "source": [
    "import numpy as np\n",
    "arr_2_d = np.arange(1,26).reshape(5,5)\n",
    "print(arr_2_d)"
   ]
  },
  {
   "cell_type": "markdown",
   "id": "2e9559d8",
   "metadata": {},
   "source": [
    "1. Grab the element 20 of the array."
   ]
  },
  {
   "cell_type": "code",
   "execution_count": 21,
   "id": "24ec1ca0",
   "metadata": {},
   "outputs": [
    {
     "name": "stdout",
     "output_type": "stream",
     "text": [
      "20\n"
     ]
    }
   ],
   "source": [
    "print(arr_2_d[3,4])"
   ]
  },
  {
   "cell_type": "markdown",
   "id": "497a9877",
   "metadata": {},
   "source": [
    "2. Grab items 2, 7, 12 of the array."
   ]
  },
  {
   "cell_type": "code",
   "execution_count": 23,
   "id": "6a61c320",
   "metadata": {},
   "outputs": [
    {
     "name": "stdout",
     "output_type": "stream",
     "text": [
      "2\n",
      "7\n",
      "12\n"
     ]
    }
   ],
   "source": [
    "print(arr_2_d[0,1])\n",
    "print(arr_2_d[1,1])\n",
    "print(arr_2_d[2,1])"
   ]
  },
  {
   "cell_type": "markdown",
   "id": "5c3dd007",
   "metadata": {},
   "source": [
    "3. Grab the last row of the array."
   ]
  },
  {
   "cell_type": "code",
   "execution_count": 24,
   "id": "a367f6be",
   "metadata": {},
   "outputs": [
    {
     "name": "stdout",
     "output_type": "stream",
     "text": [
      "[21 22 23 24 25]\n"
     ]
    }
   ],
   "source": [
    "print(arr_2_d[-1,:])"
   ]
  },
  {
   "cell_type": "markdown",
   "id": "d1891bb7",
   "metadata": {},
   "source": [
    "4. Get the sum of all the values in the array."
   ]
  },
  {
   "cell_type": "code",
   "execution_count": 27,
   "id": "a57ba7a2",
   "metadata": {},
   "outputs": [
    {
     "name": "stdout",
     "output_type": "stream",
     "text": [
      "325\n"
     ]
    }
   ],
   "source": [
    "print(np.sum(arr_2_d))"
   ]
  },
  {
   "cell_type": "markdown",
   "id": "9dda73f9",
   "metadata": {},
   "source": [
    "5. Get the column sums of the array"
   ]
  },
  {
   "cell_type": "code",
   "execution_count": 35,
   "id": "f129b1a3",
   "metadata": {},
   "outputs": [
    {
     "name": "stdout",
     "output_type": "stream",
     "text": [
      "[55 60 65 70 75]\n"
     ]
    }
   ],
   "source": [
    "print(np.sum(arr_2_d,axis=0))"
   ]
  },
  {
   "cell_type": "markdown",
   "id": "9b8c8828",
   "metadata": {},
   "source": [
    "6. Get the maximum of each row in the array"
   ]
  },
  {
   "cell_type": "code",
   "execution_count": 37,
   "id": "01f5400f",
   "metadata": {},
   "outputs": [
    {
     "name": "stdout",
     "output_type": "stream",
     "text": [
      "[ 5 10 15 20 25]\n"
     ]
    }
   ],
   "source": [
    "print(np.max(arr_2_d,axis=1))"
   ]
  },
  {
   "cell_type": "markdown",
   "id": "30346ac4",
   "metadata": {},
   "source": [
    "# Conditional selection"
   ]
  },
  {
   "cell_type": "code",
   "execution_count": 38,
   "id": "43607eb0",
   "metadata": {},
   "outputs": [
    {
     "name": "stdout",
     "output_type": "stream",
     "text": [
      "[ 0.94003768 -1.23984672 -0.21064793  0.51489474  0.46980315  0.07418815\n",
      " -0.73942647  0.17619869 -0.18730668  0.86313742  0.38991808  0.70718062\n",
      "  0.01272093  0.08237324  0.47326046  0.54560229 -1.5164404  -1.66970293\n",
      " -0.62344954 -0.6535002  -0.75698188  0.28489071  3.15492048  2.37249337\n",
      "  0.39655118]\n"
     ]
    }
   ],
   "source": [
    "# Use this array to test Conditional Selection\n",
    "arr = np.random.randn(25)\n",
    "print(arr)"
   ]
  },
  {
   "cell_type": "markdown",
   "id": "d434168b",
   "metadata": {},
   "source": [
    "Returning the sub array that is in between -0.2 and 0.2."
   ]
  },
  {
   "cell_type": "code",
   "execution_count": 39,
   "id": "9e500f7e",
   "metadata": {},
   "outputs": [
    {
     "data": {
      "text/plain": [
       "array([ 0.07418815,  0.17619869, -0.18730668,  0.01272093,  0.08237324])"
      ]
     },
     "execution_count": 39,
     "metadata": {},
     "output_type": "execute_result"
    }
   ],
   "source": [
    "arr[(arr>-0.2) & (arr<0.2)]"
   ]
  },
  {
   "cell_type": "markdown",
   "id": "403ae601",
   "metadata": {},
   "source": [
    "# Array math"
   ]
  },
  {
   "cell_type": "markdown",
   "id": "6f66c3c0",
   "metadata": {},
   "source": [
    "1. Generate two $3\\times 3$ random matrices A, B. Compute $A+B$, matrix multiplication $AB$ and $A^{-1}$.  "
   ]
  },
  {
   "cell_type": "code",
   "execution_count": 51,
   "id": "8a3f6984",
   "metadata": {},
   "outputs": [
    {
     "name": "stdout",
     "output_type": "stream",
     "text": [
      "A=\n",
      " [[0.28232906 0.12540103 0.25513499]\n",
      " [0.49384074 0.78051321 0.22933006]\n",
      " [0.92871722 0.94314667 0.98293423]]\n",
      "B=\n",
      " [[0.90148177 0.42076577 0.83571021]\n",
      " [0.49365878 0.98423906 0.68796605]\n",
      " [0.32630298 0.95155563 0.43432965]]\n",
      "A+B=\n",
      " [[1.18381083 0.54616681 1.09084519]\n",
      " [0.98749952 1.76475226 0.91729611]\n",
      " [1.2550202  1.8947023  1.41726388]]\n",
      "AB=\n",
      " [[0.39967113 0.48499413 0.43302962]\n",
      " [0.9053267  1.19422317 1.04927918]\n",
      " [1.62354865 2.25437081 1.85190883]]\n",
      "inv(A)=\n",
      " [[ 9.96855152  2.12378596 -3.08298776]\n",
      " [-4.92962092  0.73398053  1.10830911]\n",
      " [-4.68862484 -2.71091167  2.86685077]]\n"
     ]
    }
   ],
   "source": [
    "A=np.random.rand(3,3)\n",
    "B=np.random.rand(3,3)\n",
    "print('A=\\n',A)\n",
    "print('B=\\n',B)\n",
    "print('A+B=\\n',A+B)\n",
    "print('AB=\\n',A@B)\n",
    "print('inv(A)=\\n',np.linalg.inv(A))"
   ]
  },
  {
   "cell_type": "markdown",
   "id": "7569aafc",
   "metadata": {},
   "source": [
    "2. Compute eigenvalues and eigenvectors of $A$. \n",
    "A refernece for you. https://numpy.org/doc/stable/reference/generated/numpy.linalg.eig.html"
   ]
  },
  {
   "cell_type": "code",
   "execution_count": 52,
   "id": "224c60cc",
   "metadata": {},
   "outputs": [
    {
     "name": "stdout",
     "output_type": "stream",
     "text": [
      "eigenvalues:\n",
      " [1.59819853 0.09927945 0.34829852] \n",
      " eigenvectors:\n",
      " [[-0.21083804 -0.81036163  0.43733967]\n",
      " [-0.37993785  0.46939092 -0.75715622]\n",
      " [-0.9006634   0.35069387  0.48523033]]\n"
     ]
    }
   ],
   "source": [
    "[val,vec]=np.linalg.eig(A)\n",
    "print('eigenvalues:\\n',val,'\\n eigenvectors:\\n',vec)"
   ]
  },
  {
   "cell_type": "markdown",
   "id": "8d7eb386",
   "metadata": {},
   "source": [
    "# Functions"
   ]
  },
  {
   "cell_type": "markdown",
   "id": "524c0ee9",
   "metadata": {},
   "source": [
    "1. Define a function with name $h$ that returns that value $h(x)=\\frac{e^{x/2}+e^{-x/2}}{2}$."
   ]
  },
  {
   "cell_type": "code",
   "execution_count": 56,
   "id": "9b5ff6fe",
   "metadata": {},
   "outputs": [
    {
     "data": {
      "text/plain": [
       "1.5430806348152437"
      ]
     },
     "execution_count": 56,
     "metadata": {},
     "output_type": "execute_result"
    }
   ],
   "source": [
    "def h(x):\n",
    "    a=(np.exp(x/2)+np.exp(-x/2))/2\n",
    "    return a"
   ]
  },
  {
   "cell_type": "markdown",
   "id": "b8ac50ed",
   "metadata": {},
   "source": [
    "2. Define a function with name $f$ that calls $h(x)$ in question 1 and returns $f(x)=e^{-x/2}(h(x)+h(2x))$. Compute $f(1)$."
   ]
  },
  {
   "cell_type": "code",
   "execution_count": 58,
   "id": "f85434da",
   "metadata": {},
   "outputs": [
    {
     "data": {
      "text/plain": [
       "1.61986543601"
      ]
     },
     "execution_count": 58,
     "metadata": {},
     "output_type": "execute_result"
    }
   ],
   "source": [
    "def f(x):\n",
    "    a=np.exp(-x/2)*(h(x)+h(2*x))\n",
    "    return a\n",
    "f(1)"
   ]
  },
  {
   "cell_type": "markdown",
   "id": "00fd0adb",
   "metadata": {},
   "source": [
    "3. Define a function with inputs being two $3\\times 3$ random matrices $A, B$, and returns two matrices $A+B$ and matrix multiplication $AB$."
   ]
  },
  {
   "cell_type": "code",
   "execution_count": 61,
   "id": "652a1978",
   "metadata": {},
   "outputs": [
    {
     "data": {
      "text/plain": [
       "(array([[1.18381083, 0.54616681, 1.09084519],\n",
       "        [0.98749952, 1.76475226, 0.91729611],\n",
       "        [1.2550202 , 1.8947023 , 1.41726388]]),\n",
       " array([[0.39967113, 0.48499413, 0.43302962],\n",
       "        [0.9053267 , 1.19422317, 1.04927918],\n",
       "        [1.62354865, 2.25437081, 1.85190883]]))"
      ]
     },
     "execution_count": 61,
     "metadata": {},
     "output_type": "execute_result"
    }
   ],
   "source": [
    "def g(A,B):\n",
    "    C=A+B\n",
    "    D=A@B\n",
    "    return C,D\n",
    "g(A,B)"
   ]
  },
  {
   "cell_type": "markdown",
   "id": "cfba8f08",
   "metadata": {},
   "source": [
    "# Numerical solutions of ODE"
   ]
  },
  {
   "cell_type": "markdown",
   "id": "34e684ea",
   "metadata": {},
   "source": [
    "1. Define a function to find the numerical solution of $x'=x \\cos(t)$, $x(0)=1$ using Euler's method. Use step size 0.01, and find the solution $x(t)$ with $t\\in [0,50]$. Output the solution as a numpy array."
   ]
  },
  {
   "cell_type": "code",
   "execution_count": 193,
   "id": "013ab58d",
   "metadata": {},
   "outputs": [
    {
     "name": "stdout",
     "output_type": "stream",
     "text": [
      "[[1.        ]\n",
      " [1.01      ]\n",
      " [1.0200995 ]\n",
      " ...\n",
      " [0.66650615]\n",
      " [0.67290145]\n",
      " [0.67937674]]\n"
     ]
    },
    {
     "data": {
      "image/png": "[encoded data removed]",
      "text/plain": [
       "<Figure size 432x288 with 1 Axes>"
      ]
     },
     "metadata": {
      "needs_background": "light"
     },
     "output_type": "display_data"
    }
   ],
   "source": [
    "import numpy as np\n",
    "import matplotlib.pyplot as plt\n",
    "def f(x,t):\n",
    "    dxdt=x*np.cos(t)\n",
    "    return dxdt\n",
    "t_end=50\n",
    "h=0.01\n",
    "N=int(t_end/h)\n",
    "y=np.zeros([N+1,1])\n",
    "t=np.zeros([N+1,1])\n",
    "y[0]=1\n",
    "\n",
    "for i in range(N):\n",
    "    y[i+1]=y[i]+f(y[i],t[i])*h\n",
    "    t[i+1]=t[i]+h\n",
    "plt.plot(t,y)\n",
    "print(y)"
   ]
  },
  {
   "cell_type": "code",
   "execution_count": 100,
   "id": "8d117306",
   "metadata": {},
   "outputs": [
    {
     "name": "stdout",
     "output_type": "stream",
     "text": [
      "[[1.        ]\n",
      " [1.01      ]\n",
      " [1.0200995 ]\n",
      " ...\n",
      " [0.66650615]\n",
      " [0.67290145]\n",
      " [0.67937674]]\n"
     ]
    }
   ],
   "source": [
    "print(y)"
   ]
  },
  {
   "cell_type": "markdown",
   "id": "3245d562",
   "metadata": {},
   "source": [
    "2. Define a function to find the numerical solution of $x''+x=0$, $x(0)=3$, $x'(0)=0$ using Euler's method. Use step size 0.01, and find the solution $x(t)$ with $t\\in [0,50]$.  Output the solution as a numpy array."
   ]
  },
  {
   "cell_type": "code",
   "execution_count": 192,
   "id": "1da8a58d",
   "metadata": {},
   "outputs": [
    {
     "name": "stdout",
     "output_type": "stream",
     "text": [
      "[[ 3.          0.        ]\n",
      " [ 3.         -0.03      ]\n",
      " [ 2.9997     -0.06      ]\n",
      " ...\n",
      " [ 3.693939    1.09085652]\n",
      " [ 3.70484757  1.05391713]\n",
      " [ 3.71538674  1.01686866]]\n"
     ]
    },
    {
     "data": {
      "image/png": "[encoded data removed]",
      "text/plain": [
       "<Figure size 432x288 with 1 Axes>"
      ]
     },
     "metadata": {
      "needs_background": "light"
     },
     "output_type": "display_data"
    }
   ],
   "source": [
    "import numpy as np\n",
    "import matplotlib.pyplot as plt\n",
    "def f(x,t):\n",
    "    dxdt=np.array([[x[1]],[-x[0]]])\n",
    "    return dxdt\n",
    "t_end=50\n",
    "h=0.01\n",
    "N=int(t_end/h)\n",
    "y=np.zeros([N+1,2])\n",
    "t=np.zeros([N+1,1])\n",
    "y[0]=[3,0]\n",
    "\n",
    "for i in range(N):\n",
    "    y[i+1]=y[i].reshape(2,)+(f(y[i],t[i])*h).reshape(2,)\n",
    "    t[i+1]=t[i]+h\n",
    "plt.plot(t,y)\n",
    "print(y)"
   ]
  }
 ],
 "metadata": {
  "kernelspec": {
   "display_name": "Python 3 (ipykernel)",
   "language": "python",
   "name": "python3"
  },
  "language_info": {
   "codemirror_mode": {
    "name": "ipython",
    "version": 3
   },
   "file_extension": ".py",
   "mimetype": "text/x-python",
   "name": "python",
   "nbconvert_exporter": "python",
   "pygments_lexer": "ipython3",
   "version": "3.9.7"
  }
 },
 "nbformat": 4,
 "nbformat_minor": 5
}
