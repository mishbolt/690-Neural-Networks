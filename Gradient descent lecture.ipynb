{
 "cells": [
  {
   "cell_type": "markdown",
   "id": "5c9326ea",
   "metadata": {},
   "source": [
    "# Gradient Descent"
   ]
  },
  {
   "cell_type": "code",
   "execution_count": 1,
   "id": "02c0aef9",
   "metadata": {},
   "outputs": [
    {
     "data": {
      "text/plain": [
       "<matplotlib.collections.PathCollection at 0x15f2cd06e50>"
      ]
     },
     "execution_count": 1,
     "metadata": {},
     "output_type": "execute_result"
    },
    {
     "data": {
      "image/png": "[encoded data removed]",
      "text/plain": [
       "<Figure size 432x288 with 1 Axes>"
      ]
     },
     "metadata": {
      "needs_background": "light"
     },
     "output_type": "display_data"
    }
   ],
   "source": [
    "import torch\n",
    "import torch.nn as nn\n",
    "import matplotlib.pyplot as plt\n",
    "import numpy as np\n",
    "\n",
    "x = torch.unsqueeze(torch.linspace(-1,1,100),dim=1)\n",
    "y=x.pow(2)\n",
    "plt.scatter(x,y)\n",
    "\n",
    "\n"
   ]
  },
  {
   "cell_type": "code",
   "execution_count": 2,
   "id": "1779cdf9",
   "metadata": {},
   "outputs": [],
   "source": [
    "class fit(nn.Module):\n",
    "    def __init__(self,n_features,n_hidden):\n",
    "        super(fit,self).__init__()\n",
    "        #define Layers\n",
    "        self.network=nn.Sequential(\n",
    "            nn.Linear(n_features,10),\n",
    "            nn.ReLU(),\n",
    "            nn.Linear(n_hidden,1),#output layer\n",
    "        )\n",
    "        \n",
    "    def forward(self,x):\n",
    "        y=self.network(x)\n",
    "        return y"
   ]
  },
  {
   "cell_type": "code",
   "execution_count": 13,
   "id": "b1913f28",
   "metadata": {},
   "outputs": [
    {
     "name": "stdout",
     "output_type": "stream",
     "text": [
      "Epoch: 0, loss = 0.3344\n",
      "Epoch: 10, loss = 0.0747\n",
      "Epoch: 20, loss = 0.0616\n",
      "Epoch: 30, loss = 0.0531\n",
      "Epoch: 40, loss = 0.0453\n",
      "Epoch: 50, loss = 0.0379\n",
      "Epoch: 60, loss = 0.0312\n",
      "Epoch: 70, loss = 0.0254\n",
      "Epoch: 80, loss = 0.0204\n",
      "Epoch: 90, loss = 0.0164\n",
      "Epoch: 100, loss = 0.0132\n",
      "Epoch: 110, loss = 0.0108\n",
      "Epoch: 120, loss = 0.0090\n",
      "Epoch: 130, loss = 0.0076\n",
      "Epoch: 140, loss = 0.0066\n",
      "Epoch: 150, loss = 0.0058\n",
      "Epoch: 160, loss = 0.0053\n",
      "Epoch: 170, loss = 0.0049\n",
      "Epoch: 180, loss = 0.0046\n",
      "Epoch: 190, loss = 0.0043\n"
     ]
    }
   ],
   "source": [
    "model = fit(n_features = 1,n_hidden=10)\n",
    "\n",
    "optimizer = torch.optim.SGD(model.parameters(),lr=.1)\n",
    "\n",
    "loss_fn = nn.MSELoss()\n",
    "\n",
    "loss_list = []\n",
    "max_iter = 200\n",
    "\n",
    "for epoch in range(max_iter):\n",
    "    prediction = model(x)\n",
    "    loss = loss_fn(prediction, y)\n",
    "    loss.backward()\n",
    "    optimizer.step()\n",
    "    loss_list.append(loss)\n",
    "    optimizer.zero_grad()\n",
    "    if epoch%10==0:\n",
    "        print(f'Epoch: {epoch}, loss = {loss.item():.4f}')"
   ]
  },
  {
   "cell_type": "code",
   "execution_count": 14,
   "id": "fab854f1",
   "metadata": {},
   "outputs": [
    {
     "data": {
      "text/plain": [
       "[<matplotlib.lines.Line2D at 0x15f30fb6490>]"
      ]
     },
     "execution_count": 14,
     "metadata": {},
     "output_type": "execute_result"
    },
    {
     "data": {
      "image/png": "[encoded data removed]",
      "text/plain": [
       "<Figure size 432x288 with 1 Axes>"
      ]
     },
     "metadata": {
      "needs_background": "light"
     },
     "output_type": "display_data"
    }
   ],
   "source": [
    "plt.scatter(x,y)\n",
    "plt.plot(x,prediction.detach(),'rd')"
   ]
  },
  {
   "cell_type": "code",
   "execution_count": 17,
   "id": "7d2a14cf",
   "metadata": {},
   "outputs": [
    {
     "data": {
      "text/plain": [
       "[<matplotlib.lines.Line2D at 0x15f312f8a30>]"
      ]
     },
     "execution_count": 17,
     "metadata": {},
     "output_type": "execute_result"
    },
    {
     "data": {
      "image/png": "[encoded data removed]",
      "text/plain": [
       "<Figure size 432x288 with 1 Axes>"
      ]
     },
     "metadata": {
      "needs_background": "light"
     },
     "output_type": "display_data"
    }
   ],
   "source": [
    "l_stack = torch.stack(loss_list)\n",
    "plt.plot(l_stack.detach())"
   ]
  },
  {
   "cell_type": "markdown",
   "id": "e4c57c56",
   "metadata": {},
   "source": [
    "# Stochastic Gradient descent"
   ]
  },
  {
   "cell_type": "code",
   "execution_count": 61,
   "id": "614b51ad",
   "metadata": {},
   "outputs": [
    {
     "name": "stdout",
     "output_type": "stream",
     "text": [
      "Epoch: 0, loss = 0.0006\n",
      "Epoch: 20, loss = 0.0001\n",
      "Epoch: 40, loss = 0.0000\n",
      "Epoch: 60, loss = 0.0000\n",
      "Epoch: 80, loss = 0.0000\n",
      "Epoch: 100, loss = 0.0000\n",
      "Epoch: 120, loss = 0.0000\n",
      "Epoch: 140, loss = 0.0000\n",
      "Epoch: 160, loss = 0.0000\n",
      "Epoch: 180, loss = 0.0000\n",
      "Epoch: 200, loss = 0.0000\n",
      "Epoch: 220, loss = 0.0000\n",
      "Epoch: 240, loss = 0.0000\n",
      "Epoch: 260, loss = 0.0000\n",
      "Epoch: 280, loss = 0.0000\n",
      "Epoch: 300, loss = 0.0000\n",
      "Epoch: 320, loss = 0.0000\n",
      "Epoch: 340, loss = 0.0000\n",
      "Epoch: 360, loss = 0.0000\n",
      "Epoch: 380, loss = 0.0000\n",
      "Epoch: 400, loss = 0.0000\n",
      "Epoch: 420, loss = 0.0000\n",
      "Epoch: 440, loss = 0.0000\n",
      "Epoch: 460, loss = 0.0000\n",
      "Epoch: 480, loss = 0.0000\n"
     ]
    }
   ],
   "source": [
    "model = fit(n_features = 1,n_hidden=10)\n",
    "\n",
    "optimizer = torch.optim.SGD(model.parameters(),lr=.1)\n",
    "\n",
    "loss_fn = nn.MSELoss()\n",
    "\n",
    "loss_list = []\n",
    "max_iter = 500\n",
    "\n",
    "for epoch in range(max_iter):\n",
    "    for x_i,y_i in zip(x,y):\n",
    "        prediction = model(x_i)\n",
    "        loss = loss_fn(prediction, y_i)\n",
    "        loss.backward()\n",
    "        optimizer.step()\n",
    "        loss_list.append(loss)\n",
    "        optimizer.zero_grad()\n",
    "    if epoch%20==0:\n",
    "        print(f'Epoch: {epoch}, loss = {loss.item():.4f}')\n",
    "prediction = model(x)"
   ]
  },
  {
   "cell_type": "code",
   "execution_count": 62,
   "id": "b6e1ac12",
   "metadata": {},
   "outputs": [
    {
     "data": {
      "text/plain": [
       "[<matplotlib.lines.Line2D at 0x15f61a1bf40>]"
      ]
     },
     "execution_count": 62,
     "metadata": {},
     "output_type": "execute_result"
    },
    {
     "data": {
      "image/png": "[encoded data removed]",
      "text/plain": [
       "<Figure size 432x288 with 1 Axes>"
      ]
     },
     "metadata": {
      "needs_background": "light"
     },
     "output_type": "display_data"
    }
   ],
   "source": [
    "l_stack = torch.stack(loss_list)\n",
    "plt.plot(l_stack.detach())"
   ]
  },
  {
   "cell_type": "code",
   "execution_count": 64,
   "id": "42975e7f",
   "metadata": {},
   "outputs": [
    {
     "data": {
      "text/plain": [
       "[<matplotlib.lines.Line2D at 0x15f61c48040>]"
      ]
     },
     "execution_count": 64,
     "metadata": {},
     "output_type": "execute_result"
    },
    {
     "data": {
      "image/png": "[encoded data removed]",
      "text/plain": [
       "<Figure size 432x288 with 1 Axes>"
      ]
     },
     "metadata": {
      "needs_background": "light"
     },
     "output_type": "display_data"
    }
   ],
   "source": [
    "plt.scatter(x,y)\n",
    "plt.plot(x,prediction.detach(),'rd')"
   ]
  },
  {
   "cell_type": "markdown",
   "id": "75d98577",
   "metadata": {},
   "source": [
    "# Mini-Batch Gradient Descent"
   ]
  },
  {
   "cell_type": "code",
   "execution_count": 66,
   "id": "a70570c8",
   "metadata": {},
   "outputs": [
    {
     "name": "stdout",
     "output_type": "stream",
     "text": [
      "Epoch: 0, loss = 0.4365\n",
      "Epoch: 20, loss = 0.0151\n",
      "Epoch: 40, loss = 0.0051\n",
      "Epoch: 60, loss = 0.0028\n",
      "Epoch: 80, loss = 0.0019\n",
      "Epoch: 100, loss = 0.0016\n",
      "Epoch: 120, loss = 0.0015\n",
      "Epoch: 140, loss = 0.0015\n",
      "Epoch: 160, loss = 0.0014\n",
      "Epoch: 180, loss = 0.0013\n",
      "Epoch: 200, loss = 0.0013\n",
      "Epoch: 220, loss = 0.0012\n",
      "Epoch: 240, loss = 0.0012\n",
      "Epoch: 260, loss = 0.0011\n",
      "Epoch: 280, loss = 0.0011\n",
      "Epoch: 300, loss = 0.0011\n",
      "Epoch: 320, loss = 0.0010\n",
      "Epoch: 340, loss = 0.0010\n",
      "Epoch: 360, loss = 0.0009\n",
      "Epoch: 380, loss = 0.0009\n",
      "Epoch: 400, loss = 0.0009\n",
      "Epoch: 420, loss = 0.0009\n",
      "Epoch: 440, loss = 0.0008\n",
      "Epoch: 460, loss = 0.0008\n",
      "Epoch: 480, loss = 0.0008\n"
     ]
    }
   ],
   "source": [
    "model = fit(n_features = 1,n_hidden=10)\n",
    "\n",
    "optimizer = torch.optim.SGD(model.parameters(),lr=.1)\n",
    "\n",
    "loss_fn = nn.MSELoss()\n",
    "\n",
    "batch_size = 10\n",
    "n_batch = int(len(x)/batch_size)\n",
    "\n",
    "loss_list = []\n",
    "max_iter = 500\n",
    "\n",
    "for epoch in range(max_iter):\n",
    "    for batch in range(n_batch):\n",
    "        x_batch = x[batch*batch_size:(batch+1)*batch_size]\n",
    "        y_batch = y[batch*batch_size:(batch+1)*batch_size]\n",
    "        prediction = model(x_batch)\n",
    "        loss = loss_fn(prediction, y_batch)\n",
    "        loss.backward()\n",
    "        optimizer.step()\n",
    "        loss_list.append(loss)\n",
    "        optimizer.zero_grad()\n",
    "    if epoch%20==0:\n",
    "        print(f'Epoch: {epoch}, loss = {loss.item():.4f}')\n",
    "prediction = model(x)"
   ]
  },
  {
   "cell_type": "code",
   "execution_count": 67,
   "id": "9ddadde2",
   "metadata": {},
   "outputs": [
    {
     "data": {
      "text/plain": [
       "[<matplotlib.lines.Line2D at 0x15f615a8c40>]"
      ]
     },
     "execution_count": 67,
     "metadata": {},
     "output_type": "execute_result"
    },
    {
     "data": {
      "image/png": "[encoded data removed]",
      "text/plain": [
       "<Figure size 432x288 with 1 Axes>"
      ]
     },
     "metadata": {
      "needs_background": "light"
     },
     "output_type": "display_data"
    }
   ],
   "source": [
    "l_stack = torch.stack(loss_list)\n",
    "plt.plot(l_stack.detach()[:])"
   ]
  },
  {
   "cell_type": "code",
   "execution_count": 68,
   "id": "acb89e52",
   "metadata": {},
   "outputs": [
    {
     "data": {
      "text/plain": [
       "[<matplotlib.lines.Line2D at 0x15f619a7130>]"
      ]
     },
     "execution_count": 68,
     "metadata": {},
     "output_type": "execute_result"
    },
    {
     "data": {
      "image/png": "[encoded data removed]",
      "text/plain": [
       "<Figure size 432x288 with 1 Axes>"
      ]
     },
     "metadata": {
      "needs_background": "light"
     },
     "output_type": "display_data"
    }
   ],
   "source": [
    "plt.scatter(x,y)\n",
    "plt.plot(x,prediction.detach(),'rd')"
   ]
  },
  {
   "cell_type": "code",
   "execution_count": 155,
   "id": "e86e30f5",
   "metadata": {},
   "outputs": [],
   "source": [
    "def ArrayChallenge(arr):\n",
    "    import numpy as np\n",
    "    arr=np.array(arr)\n",
    "    answer = []\n",
    "    for i in range(len(arr)):\n",
    "        m = np.where(np.array(arr[:i]<=arr[i])==True)\n",
    "        if len(m[0])==0:\n",
    "            answer.append(-1)\n",
    "        else:\n",
    "            j = np.max(m)\n",
    "            answer.append(arr[j])\n",
    "    return answer"
   ]
  },
  {
   "cell_type": "code",
   "execution_count": 158,
   "id": "f78b90f1",
   "metadata": {},
   "outputs": [
    {
     "data": {
      "text/plain": [
       "'-1 -1 -1 -1 -1 -1 -1 -1'"
      ]
     },
     "execution_count": 158,
     "metadata": {},
     "output_type": "execute_result"
    }
   ],
   "source": [
    "arr = np.array([8,7,6,5,4,3,2,1])\n",
    "a=ArrayChallenge(arr)\n",
    "a=[str(i) for i in a]\n",
    "' '.join(a)"
   ]
  },
  {
   "cell_type": "code",
   "execution_count": 124,
   "id": "fc76ea0a",
   "metadata": {},
   "outputs": [
    {
     "ename": "ValueError",
     "evalue": "zero-size array to reduction operation maximum which has no identity",
     "output_type": "error",
     "traceback": [
      "\u001b[1;31m---------------------------------------------------------------------------\u001b[0m",
      "\u001b[1;31mValueError\u001b[0m                                Traceback (most recent call last)",
      "\u001b[1;32m~\\AppData\\Local\\Temp/ipykernel_22584/2030077597.py\u001b[0m in \u001b[0;36m<module>\u001b[1;34m\u001b[0m\n\u001b[0;32m      1\u001b[0m \u001b[0mi\u001b[0m\u001b[1;33m=\u001b[0m\u001b[1;36m0\u001b[0m\u001b[1;33m\u001b[0m\u001b[1;33m\u001b[0m\u001b[0m\n\u001b[0;32m      2\u001b[0m \u001b[0mm\u001b[0m \u001b[1;33m=\u001b[0m \u001b[0marr\u001b[0m\u001b[1;33m[\u001b[0m\u001b[1;33m:\u001b[0m\u001b[0mi\u001b[0m\u001b[1;33m]\u001b[0m\u001b[1;33m<\u001b[0m\u001b[0marr\u001b[0m\u001b[1;33m[\u001b[0m\u001b[0mi\u001b[0m\u001b[1;33m]\u001b[0m\u001b[1;33m\u001b[0m\u001b[1;33m\u001b[0m\u001b[0m\n\u001b[1;32m----> 3\u001b[1;33m \u001b[0mprint\u001b[0m\u001b[1;33m(\u001b[0m\u001b[0mnp\u001b[0m\u001b[1;33m.\u001b[0m\u001b[0mmax\u001b[0m\u001b[1;33m(\u001b[0m\u001b[0mnp\u001b[0m\u001b[1;33m.\u001b[0m\u001b[0mwhere\u001b[0m\u001b[1;33m(\u001b[0m\u001b[0mm\u001b[0m\u001b[1;33m==\u001b[0m\u001b[1;32mTrue\u001b[0m\u001b[1;33m)\u001b[0m\u001b[1;33m)\u001b[0m\u001b[1;33m)\u001b[0m\u001b[1;33m\u001b[0m\u001b[1;33m\u001b[0m\u001b[0m\n\u001b[0m",
      "\u001b[1;32m<__array_function__ internals>\u001b[0m in \u001b[0;36mamax\u001b[1;34m(*args, **kwargs)\u001b[0m\n",
      "\u001b[1;32m~\\anaconda3\\lib\\site-packages\\numpy\\core\\fromnumeric.py\u001b[0m in \u001b[0;36mamax\u001b[1;34m(a, axis, out, keepdims, initial, where)\u001b[0m\n\u001b[0;32m   2731\u001b[0m     \u001b[1;36m5\u001b[0m\u001b[1;33m\u001b[0m\u001b[1;33m\u001b[0m\u001b[0m\n\u001b[0;32m   2732\u001b[0m     \"\"\"\n\u001b[1;32m-> 2733\u001b[1;33m     return _wrapreduction(a, np.maximum, 'max', axis, None, out,\n\u001b[0m\u001b[0;32m   2734\u001b[0m                           keepdims=keepdims, initial=initial, where=where)\n\u001b[0;32m   2735\u001b[0m \u001b[1;33m\u001b[0m\u001b[0m\n",
      "\u001b[1;32m~\\anaconda3\\lib\\site-packages\\numpy\\core\\fromnumeric.py\u001b[0m in \u001b[0;36m_wrapreduction\u001b[1;34m(obj, ufunc, method, axis, dtype, out, **kwargs)\u001b[0m\n\u001b[0;32m     85\u001b[0m                 \u001b[1;32mreturn\u001b[0m \u001b[0mreduction\u001b[0m\u001b[1;33m(\u001b[0m\u001b[0maxis\u001b[0m\u001b[1;33m=\u001b[0m\u001b[0maxis\u001b[0m\u001b[1;33m,\u001b[0m \u001b[0mout\u001b[0m\u001b[1;33m=\u001b[0m\u001b[0mout\u001b[0m\u001b[1;33m,\u001b[0m \u001b[1;33m**\u001b[0m\u001b[0mpasskwargs\u001b[0m\u001b[1;33m)\u001b[0m\u001b[1;33m\u001b[0m\u001b[1;33m\u001b[0m\u001b[0m\n\u001b[0;32m     86\u001b[0m \u001b[1;33m\u001b[0m\u001b[0m\n\u001b[1;32m---> 87\u001b[1;33m     \u001b[1;32mreturn\u001b[0m \u001b[0mufunc\u001b[0m\u001b[1;33m.\u001b[0m\u001b[0mreduce\u001b[0m\u001b[1;33m(\u001b[0m\u001b[0mobj\u001b[0m\u001b[1;33m,\u001b[0m \u001b[0maxis\u001b[0m\u001b[1;33m,\u001b[0m \u001b[0mdtype\u001b[0m\u001b[1;33m,\u001b[0m \u001b[0mout\u001b[0m\u001b[1;33m,\u001b[0m \u001b[1;33m**\u001b[0m\u001b[0mpasskwargs\u001b[0m\u001b[1;33m)\u001b[0m\u001b[1;33m\u001b[0m\u001b[1;33m\u001b[0m\u001b[0m\n\u001b[0m\u001b[0;32m     88\u001b[0m \u001b[1;33m\u001b[0m\u001b[0m\n\u001b[0;32m     89\u001b[0m \u001b[1;33m\u001b[0m\u001b[0m\n",
      "\u001b[1;31mValueError\u001b[0m: zero-size array to reduction operation maximum which has no identity"
     ]
    }
   ],
   "source": [
    "i=0\n",
    "m = arr[:i]<arr[i]\n",
    "print(np.max(np.where(m==True)))"
   ]
  },
  {
   "cell_type": "code",
   "execution_count": 143,
   "id": "19d7daa7",
   "metadata": {},
   "outputs": [
    {
     "data": {
      "text/plain": [
       "0"
      ]
     },
     "execution_count": 143,
     "metadata": {},
     "output_type": "execute_result"
    }
   ],
   "source": [
    "i=0\n",
    "len(np.where(np.array(arr[:i]<arr[i])==True)[0])"
   ]
  }
 ],
 "metadata": {
  "kernelspec": {
   "display_name": "Python 3 (ipykernel)",
   "language": "python",
   "name": "python3"
  },
  "language_info": {
   "codemirror_mode": {
    "name": "ipython",
    "version": 3
   },
   "file_extension": ".py",
   "mimetype": "text/x-python",
   "name": "python",
   "nbconvert_exporter": "python",
   "pygments_lexer": "ipython3",
   "version": "3.9.7"
  }
 },
 "nbformat": 4,
 "nbformat_minor": 5
}
