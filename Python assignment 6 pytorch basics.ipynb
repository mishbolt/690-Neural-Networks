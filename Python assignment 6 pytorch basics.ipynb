{
 "cells": [
  {
   "cell_type": "markdown",
   "id": "41577dc8",
   "metadata": {},
   "source": [
    "Instruction: This homework is not finalized. I will fill out this assignment with more code chunk. If you don't need additional code to help you finish the homework, you can work on it with yout own code now. "
   ]
  },
  {
   "cell_type": "markdown",
   "id": "b8a76192",
   "metadata": {},
   "source": [
    "1. Follow the example we did in class to construct a linear network to learn the prameter $w$ in the following code. You will see that $w$ here is the same as the class example, but the convergence speed is different. \n",
    "\n",
    "Compute the prediction, gradiant, loss and parameter update by pytorch.\n"
   ]
  },
  {
   "cell_type": "code",
   "execution_count": 8,
   "id": "9f8fc3ee",
   "metadata": {},
   "outputs": [],
   "source": [
    "import torch\n",
    "import torch.nn as nn\n",
    "# #Single variable regression by torch\n",
    "#y=2*x\n",
    "x=torch.tensor([0.1,0.2,0.3,0.4], dtype=torch.float32)\n",
    "y=torch.tensor([0.2,0.4,0.6,0.8], dtype=torch.float32)\n",
    "w=torch.tensor(0.0, dtype=torch.float32,requires_grad=True)\n",
    "#model prediction\n",
    "def forward(x):\n",
    "    return w*x\n"
   ]
  },
  {
   "cell_type": "markdown",
   "id": "bf1321a2",
   "metadata": {},
   "source": [
    "2. Verify the Approximation Theorem II we proved in class. Construct a neural network in the theorem to approximate $x^2$ on $[-1,1]$. Let $\\epsilon = 0.1$, build your training set wisely so the error is bounded by $\\epsilon$.\n",
    "\n",
    "You can revise the following code or come up with your own approach."
   ]
  },
  {
   "cell_type": "code",
   "execution_count": 3,
   "id": "bf84b74d",
   "metadata": {},
   "outputs": [
    {
     "data": {
      "image/png": "[encoded data removed]",
      "text/plain": [
       "<Figure size 432x288 with 1 Axes>"
      ]
     },
     "metadata": {
      "needs_background": "light"
     },
     "output_type": "display_data"
    }
   ],
   "source": [
    "import torch\n",
    "import torch.nn as nn\n",
    "import matplotlib.pyplot as plt\n",
    "\n",
    "X = torch.tensor([range(-10,11)]).float().view(-1, 1)\n",
    "Y = X*X\n",
    "\n",
    "model = nn.Sequential(\n",
    "    nn.Linear(1, 20),\n",
    "    nn.ReLU(),\n",
    "    nn.Linear(20, 1)\n",
    ")\n",
    "L_vec=[]\n",
    "epoch_vec=[]\n",
    "epoch=1\n",
    "optimizer = torch.optim.SGD(model.parameters(), lr=1e-3)\n",
    "loss_func = nn.MSELoss()\n",
    "for _ in range(15000):\n",
    "    optimizer.zero_grad()\n",
    "    pred = model(X)\n",
    "    loss = loss_func(pred, Y)\n",
    "    loss.backward()\n",
    "    optimizer.step()\n",
    "    \n",
    "    L_vec=L_vec+[loss.detach().numpy()]\n",
    "    epoch_vec=epoch_vec+[epoch]\n",
    "    epoch=epoch+1\n",
    "plt.scatter(epoch_vec,L_vec)\n",
    "\n",
    "x = torch.linspace(-12, 12, steps=200).view(-1, 1)\n",
    "y = model(x)\n",
    "f = x*x\n",
    "\n",
    "plt.plot(x.detach().view(-1).numpy(), y.detach().view(-1).numpy(), 'r.', linestyle='None')\n",
    "plt.plot(x.detach().view(-1).numpy(), f.detach().view(-1).numpy(), 'b')\n",
    "plt.show()"
   ]
  },
  {
   "cell_type": "code",
   "execution_count": 9,
   "id": "c39ca8ca",
   "metadata": {},
   "outputs": [
    {
     "name": "stdout",
     "output_type": "stream",
     "text": [
      "tensor([10.6931], grad_fn=<UnbindBackward0>)\n"
     ]
    }
   ],
   "source": [
    "# compute the max actual error\n",
    "# Why is the eroor so large?\n",
    "# How to revise the code and make the error bounded by epsilon?\n",
    "print(max(abs(y-f)))"
   ]
  },
  {
   "cell_type": "markdown",
   "id": "2c8e8610",
   "metadata": {},
   "source": [
    "3. Learn the house price of Boston with a deep (at least two hidden layer) neural network. \n",
    "\n",
    "Leave 25% of data as test data.\n",
    "\n",
    "Use MSELoss for your loss function.\n",
    "\n",
    "Construct a neural network with 40 nodes in the first layer, 20 nodes in the second layer, 10 nodes in the third layer, one node in output layer. Use Relu as the activation function of each layer.\n",
    "\n",
    "Use sklearn.metrics.r2_score to evaluate the training accuracy and test accuracy. https://scikit-learn.org/stable/modules/generated/sklearn.metrics.r2_score.html"
   ]
  },
  {
   "cell_type": "code",
   "execution_count": 8,
   "id": "f381a134",
   "metadata": {},
   "outputs": [
    {
     "data": {
      "text/html": [
       "<div>\n",
       "<style scoped>\n",
       "    .dataframe tbody tr th:only-of-type {\n",
       "        vertical-align: middle;\n",
       "    }\n",
       "\n",
       "    .dataframe tbody tr th {\n",
       "        vertical-align: top;\n",
       "    }\n",
       "\n",
       "    .dataframe thead th {\n",
       "        text-align: right;\n",
       "    }\n",
       "</style>\n",
       "<table border=\"1\" class=\"dataframe\">\n",
       "  <thead>\n",
       "    <tr style=\"text-align: right;\">\n",
       "      <th></th>\n",
       "      <th>CRIM</th>\n",
       "      <th>ZN</th>\n",
       "      <th>INDUS</th>\n",
       "      <th>CHAS</th>\n",
       "      <th>NOX</th>\n",
       "      <th>RM</th>\n",
       "      <th>AGE</th>\n",
       "      <th>DIS</th>\n",
       "      <th>RAD</th>\n",
       "      <th>TAX</th>\n",
       "      <th>PTRATIO</th>\n",
       "      <th>B</th>\n",
       "      <th>LSTAT</th>\n",
       "      <th>Price</th>\n",
       "    </tr>\n",
       "  </thead>\n",
       "  <tbody>\n",
       "    <tr>\n",
       "      <th>0</th>\n",
       "      <td>0.00632</td>\n",
       "      <td>18.0</td>\n",
       "      <td>2.31</td>\n",
       "      <td>0.0</td>\n",
       "      <td>0.538</td>\n",
       "      <td>6.575</td>\n",
       "      <td>65.2</td>\n",
       "      <td>4.0900</td>\n",
       "      <td>1.0</td>\n",
       "      <td>296.0</td>\n",
       "      <td>15.3</td>\n",
       "      <td>396.90</td>\n",
       "      <td>4.98</td>\n",
       "      <td>24.0</td>\n",
       "    </tr>\n",
       "    <tr>\n",
       "      <th>1</th>\n",
       "      <td>0.02731</td>\n",
       "      <td>0.0</td>\n",
       "      <td>7.07</td>\n",
       "      <td>0.0</td>\n",
       "      <td>0.469</td>\n",
       "      <td>6.421</td>\n",
       "      <td>78.9</td>\n",
       "      <td>4.9671</td>\n",
       "      <td>2.0</td>\n",
       "      <td>242.0</td>\n",
       "      <td>17.8</td>\n",
       "      <td>396.90</td>\n",
       "      <td>9.14</td>\n",
       "      <td>21.6</td>\n",
       "    </tr>\n",
       "    <tr>\n",
       "      <th>2</th>\n",
       "      <td>0.02729</td>\n",
       "      <td>0.0</td>\n",
       "      <td>7.07</td>\n",
       "      <td>0.0</td>\n",
       "      <td>0.469</td>\n",
       "      <td>7.185</td>\n",
       "      <td>61.1</td>\n",
       "      <td>4.9671</td>\n",
       "      <td>2.0</td>\n",
       "      <td>242.0</td>\n",
       "      <td>17.8</td>\n",
       "      <td>392.83</td>\n",
       "      <td>4.03</td>\n",
       "      <td>34.7</td>\n",
       "    </tr>\n",
       "    <tr>\n",
       "      <th>3</th>\n",
       "      <td>0.03237</td>\n",
       "      <td>0.0</td>\n",
       "      <td>2.18</td>\n",
       "      <td>0.0</td>\n",
       "      <td>0.458</td>\n",
       "      <td>6.998</td>\n",
       "      <td>45.8</td>\n",
       "      <td>6.0622</td>\n",
       "      <td>3.0</td>\n",
       "      <td>222.0</td>\n",
       "      <td>18.7</td>\n",
       "      <td>394.63</td>\n",
       "      <td>2.94</td>\n",
       "      <td>33.4</td>\n",
       "    </tr>\n",
       "    <tr>\n",
       "      <th>4</th>\n",
       "      <td>0.06905</td>\n",
       "      <td>0.0</td>\n",
       "      <td>2.18</td>\n",
       "      <td>0.0</td>\n",
       "      <td>0.458</td>\n",
       "      <td>7.147</td>\n",
       "      <td>54.2</td>\n",
       "      <td>6.0622</td>\n",
       "      <td>3.0</td>\n",
       "      <td>222.0</td>\n",
       "      <td>18.7</td>\n",
       "      <td>396.90</td>\n",
       "      <td>5.33</td>\n",
       "      <td>36.2</td>\n",
       "    </tr>\n",
       "  </tbody>\n",
       "</table>\n",
       "</div>"
      ],
      "text/plain": [
       "      CRIM    ZN  INDUS  CHAS    NOX     RM   AGE     DIS  RAD    TAX  \\\n",
       "0  0.00632  18.0   2.31   0.0  0.538  6.575  65.2  4.0900  1.0  296.0   \n",
       "1  0.02731   0.0   7.07   0.0  0.469  6.421  78.9  4.9671  2.0  242.0   \n",
       "2  0.02729   0.0   7.07   0.0  0.469  7.185  61.1  4.9671  2.0  242.0   \n",
       "3  0.03237   0.0   2.18   0.0  0.458  6.998  45.8  6.0622  3.0  222.0   \n",
       "4  0.06905   0.0   2.18   0.0  0.458  7.147  54.2  6.0622  3.0  222.0   \n",
       "\n",
       "   PTRATIO       B  LSTAT  Price  \n",
       "0     15.3  396.90   4.98   24.0  \n",
       "1     17.8  396.90   9.14   21.6  \n",
       "2     17.8  392.83   4.03   34.7  \n",
       "3     18.7  394.63   2.94   33.4  \n",
       "4     18.7  396.90   5.33   36.2  "
      ]
     },
     "execution_count": 8,
     "metadata": {},
     "output_type": "execute_result"
    }
   ],
   "source": [
    "from sklearn.datasets import load_boston\n",
    "import pandas as pd\n",
    "dataset = load_boston()\n",
    "df=pd.DataFrame(dataset.data)\n",
    "df.columns=dataset.feature_names\n",
    "df[\"Price\"]=dataset.target \n",
    "#house price is in the last column, there might be a warning message\n",
    "df.head() "
   ]
  },
  {
   "cell_type": "code",
   "execution_count": null,
   "id": "b447b58e",
   "metadata": {},
   "outputs": [],
   "source": []
  }
 ],
 "metadata": {
  "kernelspec": {
   "display_name": "Python 3 (ipykernel)",
   "language": "python",
   "name": "python3"
  },
  "language_info": {
   "codemirror_mode": {
    "name": "ipython",
    "version": 3
   },
   "file_extension": ".py",
   "mimetype": "text/x-python",
   "name": "python",
   "nbconvert_exporter": "python",
   "pygments_lexer": "ipython3",
   "version": "3.9.7"
  }
 },
 "nbformat": 4,
 "nbformat_minor": 5
}
