{
 "cells": [
  {
   "cell_type": "markdown",
   "id": "0a1427e9",
   "metadata": {},
   "source": [
    "# Generate numpy arrays\n",
    "questions from https://medium.com/jungletronics/numpy-jupyter-notebook-1182f78ab4e1"
   ]
  },
  {
   "cell_type": "markdown",
   "id": "13427695",
   "metadata": {},
   "source": [
    "1. Creates an array of integers from 10 to 50"
   ]
  },
  {
   "cell_type": "markdown",
   "id": "0896f398",
   "metadata": {},
   "source": [
    "2. Create an array of even integers from 10 to 50"
   ]
  },
  {
   "cell_type": "markdown",
   "id": "05747597",
   "metadata": {},
   "source": [
    "3. Creates a 3x3 matrix with values being 1,2,3,...,9"
   ]
  },
  {
   "cell_type": "markdown",
   "id": "54a62b07",
   "metadata": {},
   "source": [
    "4. Create an array of 20 linearly spaced points between 0 and 1."
   ]
  },
  {
   "cell_type": "markdown",
   "id": "deae8627",
   "metadata": {},
   "source": [
    "5. Use NumPy to generate an array of 25 random numbers sampled from a standard normal distribution."
   ]
  },
  {
   "cell_type": "markdown",
   "id": "ebe61cf1",
   "metadata": {},
   "source": [
    "6. Create a 10x10 matrix of 100 items spaced evenly at 0.01 steps ranged from 0.01 to 1。"
   ]
  },
  {
   "cell_type": "markdown",
   "id": "7f383175",
   "metadata": {},
   "source": [
    "# Indexing & slicing"
   ]
  },
  {
   "cell_type": "markdown",
   "id": "afcb77c0",
   "metadata": {},
   "source": [
    "Use this 2-Dimensional Array for this exercises"
   ]
  },
  {
   "cell_type": "code",
   "execution_count": null,
   "id": "50275fcf",
   "metadata": {},
   "outputs": [],
   "source": [
    "import numpy as np\n",
    "arr_2_d = np.arange(1,26).reshape(5,5)\n",
    "print(arr_2_d)"
   ]
  },
  {
   "cell_type": "markdown",
   "id": "2e9559d8",
   "metadata": {},
   "source": [
    "1. Grab the element 20 of the array."
   ]
  },
  {
   "cell_type": "markdown",
   "id": "497a9877",
   "metadata": {},
   "source": [
    "2. Grab items 2, 7, 12 of the array."
   ]
  },
  {
   "cell_type": "markdown",
   "id": "5c3dd007",
   "metadata": {},
   "source": [
    "3. Grab the last row of the array."
   ]
  },
  {
   "cell_type": "markdown",
   "id": "d1891bb7",
   "metadata": {},
   "source": [
    "4. Get the sum of all the values in the array."
   ]
  },
  {
   "cell_type": "markdown",
   "id": "9dda73f9",
   "metadata": {},
   "source": [
    "5. Get the column sums of the array"
   ]
  },
  {
   "cell_type": "markdown",
   "id": "9b8c8828",
   "metadata": {},
   "source": [
    "6. Get the maximum of each row in the array"
   ]
  },
  {
   "cell_type": "markdown",
   "id": "30346ac4",
   "metadata": {},
   "source": [
    "# Conditional selection"
   ]
  },
  {
   "cell_type": "code",
   "execution_count": null,
   "id": "43607eb0",
   "metadata": {},
   "outputs": [],
   "source": [
    "# Use this array to test Conditional Selection\n",
    "arr = np.random.randn(25)\n",
    "print(arr)"
   ]
  },
  {
   "cell_type": "markdown",
   "id": "d434168b",
   "metadata": {},
   "source": [
    "Returning the sub array that is in between -0.2 and 0.2."
   ]
  },
  {
   "cell_type": "markdown",
   "id": "403ae601",
   "metadata": {},
   "source": [
    "# Array math"
   ]
  },
  {
   "cell_type": "markdown",
   "id": "6f66c3c0",
   "metadata": {},
   "source": [
    "1. Generate two $3\\times 3$ random matrices A, B. Compute $A+B$, matrix multiplication $AB$ and $A^{-1}$.  "
   ]
  },
  {
   "cell_type": "markdown",
   "id": "7569aafc",
   "metadata": {},
   "source": [
    "2. Compute eigenvalues and eigenvectors of $A$. \n",
    "A refernece for you. https://numpy.org/doc/stable/reference/generated/numpy.linalg.eig.html"
   ]
  },
  {
   "cell_type": "markdown",
   "id": "f529f66d",
   "metadata": {},
   "source": [
    "# Functions"
   ]
  },
  {
   "cell_type": "markdown",
   "id": "37c0a95c",
   "metadata": {},
   "source": [
    "1. Define a function with name $h$ that returns that value $h(x)=\\frac{e^{x/2}+e^{-x/2}}{2}$."
   ]
  },
  {
   "cell_type": "markdown",
   "id": "b3d25f86",
   "metadata": {},
   "source": [
    "2. Define a function with name $f$ that calls $h(x)$ in question 1 and returns $f(x)=e^{-x/2}(h(x)+h(2x))$. Compute $f(1)$."
   ]
  },
  {
   "cell_type": "markdown",
   "id": "cfabb214",
   "metadata": {},
   "source": [
    "3. Define a function with inputs being two $3\\times 3$ random matrices $A, B$, and returns two matrices $A+B$ and matrix multiplication $AB$."
   ]
  },
  {
   "cell_type": "markdown",
   "id": "b662c87a",
   "metadata": {},
   "source": [
    "# Numerical solutions of ODE"
   ]
  },
  {
   "cell_type": "markdown",
   "id": "947e3dfc",
   "metadata": {},
   "source": [
    "1. Define a function to find the numerical solution of $x'=x \\cos(t)$, $x(0)=1$ using Euler's method. Use step size 0.01, and find the solution $x(t)$ with $t\\in [0,50]$. Output the solution as a numpy array."
   ]
  },
  {
   "cell_type": "markdown",
   "id": "a5b88f2e",
   "metadata": {},
   "source": [
    "2. Define a function to find the numerical solution of $x''+x=0$, $x(0)=3$, $x'(0)=0$ using Euler's method. Use step size 0.01, and find the solution $x(t)$ with $t\\in [0,50]$.  Output the solution as a numpy array."
   ]
  }
 ],
 "metadata": {
  "kernelspec": {
   "display_name": "Python 3 (ipykernel)",
   "language": "python",
   "name": "python3"
  },
  "language_info": {
   "codemirror_mode": {
    "name": "ipython",
    "version": 3
   },
   "file_extension": ".py",
   "mimetype": "text/x-python",
   "name": "python",
   "nbconvert_exporter": "python",
   "pygments_lexer": "ipython3",
   "version": "3.9.7"
  }
 },
 "nbformat": 4,
 "nbformat_minor": 5
}
