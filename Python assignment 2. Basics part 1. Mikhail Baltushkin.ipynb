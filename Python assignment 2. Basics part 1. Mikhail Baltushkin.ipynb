{
 "cells": [
  {
   "cell_type": "markdown",
   "id": "e4bec819",
   "metadata": {},
   "source": [
    "## Python assignment instruction\n",
    "Write down your answer in a code cell for each problem.\n",
    "Execute them and display the result."
   ]
  },
  {
   "cell_type": "markdown",
   "id": "ff5d8786",
   "metadata": {},
   "source": [
    "## Reading:\n",
    "[Python tutorial](https://docs.python.org/3.7/tutorial/) 3.1, 4.1 - 4.7, 5.1 - 5.6\n",
    "\n",
    "Another good source\n",
    "https://cs231n.github.io/python-numpy-tutorial/"
   ]
  },
  {
   "cell_type": "markdown",
   "id": "32314df2",
   "metadata": {},
   "source": [
    "1. Can you add an int type variable and a float type variable? If yes, what is the variable type of your result?<br>\n",
    "Show it in an example."
   ]
  },
  {
   "cell_type": "code",
   "execution_count": 1,
   "id": "6a71bef8",
   "metadata": {},
   "outputs": [
    {
     "data": {
      "text/plain": [
       "float"
      ]
     },
     "execution_count": 1,
     "metadata": {},
     "output_type": "execute_result"
    }
   ],
   "source": [
    "x=2\n",
    "y=3.0\n",
    "z=x+y\n",
    "type(z)"
   ]
  },
  {
   "cell_type": "markdown",
   "id": "3d3268ec",
   "metadata": {},
   "source": [
    "2. Define a string 'Mathematician', and extract the substring 'matician' use `seq[start:stop]` command."
   ]
  },
  {
   "cell_type": "code",
   "execution_count": 23,
   "id": "4abab337",
   "metadata": {},
   "outputs": [
    {
     "name": "stdout",
     "output_type": "stream",
     "text": [
      "matician\n"
     ]
    }
   ],
   "source": [
    "string= 'Mathematician'\n",
    "print(string[5:])"
   ]
  },
  {
   "cell_type": "markdown",
   "id": "c9668cf2",
   "metadata": {},
   "source": [
    "3. Find the length of a list. Creat a list s = [1,2,3,4,5,6,7,8]. Search in Google and find out the command, and use it to determine the length of s."
   ]
  },
  {
   "cell_type": "code",
   "execution_count": 25,
   "id": "8f2cb4f3",
   "metadata": {},
   "outputs": [
    {
     "name": "stdout",
     "output_type": "stream",
     "text": [
      "8\n"
     ]
    }
   ],
   "source": [
    "s=[1,2,3,4,5,6,7,8]\n",
    "print(len(s))"
   ]
  },
  {
   "cell_type": "markdown",
   "id": "f3004b33",
   "metadata": {},
   "source": [
    "4. Use the range function to create the following list: 1, 3, 5, 7, 9"
   ]
  },
  {
   "cell_type": "code",
   "execution_count": 30,
   "id": "2fd6519d",
   "metadata": {},
   "outputs": [
    {
     "name": "stdout",
     "output_type": "stream",
     "text": [
      "[1, 3, 5, 7, 9]\n"
     ]
    }
   ],
   "source": [
    "a=range(1,10,2)\n",
    "print(list(a))"
   ]
  },
  {
   "cell_type": "markdown",
   "id": "be0a4ed7",
   "metadata": {},
   "source": [
    "5. Use a for loop to generate the Fibonacci sequence of length 20: 0, 1, 1, 2, 3, 5, 8, 13, 21, 34, ... as a list."
   ]
  },
  {
   "cell_type": "code",
   "execution_count": 37,
   "id": "cd1ff88b",
   "metadata": {},
   "outputs": [
    {
     "name": "stdout",
     "output_type": "stream",
     "text": [
      "[0, 1, 1, 2, 3, 5, 8, 13, 21, 34, 55, 89, 144, 233, 377, 610, 987, 1597, 2584, 4181]\n"
     ]
    }
   ],
   "source": [
    "a=0\n",
    "b=1\n",
    "FibList=[a,b]\n",
    "for i in range(18):\n",
    "    c=a+b\n",
    "    a=b\n",
    "    b=c\n",
    "    FibList=FibList+[c]\n",
    "print(FibList)\n",
    "    "
   ]
  },
  {
   "cell_type": "markdown",
   "id": "b34024ca",
   "metadata": {},
   "source": [
    "6. Let a=[1, 1, 1, 2, 1, 4, 6, 8, 9, 7, 3, 10, 3, 10]. Split the list $a$ into two lists $b$ and $c$ with equal sum that follows the original order.\n",
    "Your result: $b=$? $c=$?\n"
   ]
  },
  {
   "cell_type": "code",
   "execution_count": 63,
   "id": "9ab07409",
   "metadata": {},
   "outputs": [
    {
     "name": "stdout",
     "output_type": "stream",
     "text": [
      "list b is [1, 1, 1, 2, 1, 4, 6, 8, 9]\n",
      "list c is [7, 3, 10, 3, 10]\n",
      "Sum of b is 33\n",
      "Sum of c is 33\n"
     ]
    }
   ],
   "source": [
    "a=[1, 1, 1, 2, 1, 4, 6, 8, 9, 7, 3, 10, 3, 10]\n",
    "for i in range(len(a)):\n",
    "    b=a[:i]\n",
    "    c=a[i:]\n",
    "    if sum(b)==sum(c):\n",
    "        print('list b is', b)\n",
    "        print('list c is', c)\n",
    "        print('Sum of b is', sum(b))\n",
    "        print('Sum of c is', sum(c))\n",
    "        break"
   ]
  },
  {
   "cell_type": "markdown",
   "id": "cfef3000",
   "metadata": {},
   "source": [
    "7. Use a list comprehension to create: [[1,2,3],[2,4,6],[3,6,9],[4,8,12]]."
   ]
  },
  {
   "cell_type": "code",
   "execution_count": 51,
   "id": "d4bf993e",
   "metadata": {},
   "outputs": [
    {
     "name": "stdout",
     "output_type": "stream",
     "text": [
      "[[1, 2, 3], [2, 4, 6], [3, 6, 9], [4, 8, 12]]\n"
     ]
    }
   ],
   "source": [
    "newlist=[[i*1,i*2,i*3] for i in range(1,5)]\n",
    "print(newlist)"
   ]
  }
 ],
 "metadata": {
  "kernelspec": {
   "display_name": "Python 3 (ipykernel)",
   "language": "python",
   "name": "python3"
  },
  "language_info": {
   "codemirror_mode": {
    "name": "ipython",
    "version": 3
   },
   "file_extension": ".py",
   "mimetype": "text/x-python",
   "name": "python",
   "nbconvert_exporter": "python",
   "pygments_lexer": "ipython3",
   "version": "3.9.7"
  }
 },
 "nbformat": 4,
 "nbformat_minor": 5
}
