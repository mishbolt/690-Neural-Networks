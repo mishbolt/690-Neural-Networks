{
 "cells": [
  {
   "cell_type": "markdown",
   "id": "dfc367cc",
   "metadata": {},
   "source": [
    "# Written problems."
   ]
  },
  {
   "cell_type": "markdown",
   "id": "51bd49d7",
   "metadata": {},
   "source": [
    "## 1. Lipschitz\n",
    "Prove the following theorem. <br>\n",
    "Let $f:R\\rightarrow R$ be a continuous and differentiable function. Then $f$ is $k$-Lipschitz if and only if $f'$ is bounded."
   ]
  },
  {
   "cell_type": "markdown",
   "id": "3b82b414",
   "metadata": {},
   "source": [
    "## 2. A special function\n",
    "Apply the theorem to verify that $x^2sin(\\frac{1}{x})$ is 3-Lipshitz in $R$."
   ]
  },
  {
   "cell_type": "markdown",
   "id": "9c87107e",
   "metadata": {},
   "source": [
    "## 3. Approximation theory with Heaviside\n",
    "If you are designing a neural network $f$ to approximate $g(x)=x^2sin(\\frac{1}{x})$ on the interval $[-1,1]$. <br> For $\\epsilon=10^{-6}$,  what would be a reasonable network archetecture if you want $\\sup _{x\\in[0,1]}|f-g|\\le\\epsilon$ and $\\sigma=Heaviside$? No need to come up with weights and biases of the network."
   ]
  },
  {
   "cell_type": "markdown",
   "id": "1e35ca7a",
   "metadata": {},
   "source": [
    "## 4. Approximation theory with Relu\n",
    "Given a data set $(x_i, g(x_i))$ with $i=0,\\cdots,n$, with $x_0 < x_1 < \\cdots< x_n$, define the neural network $f_n$ as\n",
    "$$f_n(x)=\\sum_{i=1}^{n-1}a_iRelu(\\frac{x_{i+1}-x}{x_{i+1}-x_i})+a_n$$\n",
    "where $\\alpha=[a_0,a_1,\\cdots,a_n]$ is computed by\n",
    "$$\\alpha^T=\\begin{bmatrix}\n",
    "1&-\\frac{x_2-x_0}{x_2-x_1}&\\frac{x_2-x_0}{x_2-x_1}-1&0&\\cdots&0&0&0\\\\\n",
    "0&1&-\\frac{x_3-x_1}{x_3-x_2}&\\frac{x_3-x_1}{x_3-x_2}-1&\\cdots&0&0&0\\\\\n",
    "0&0&1&-\\frac{x_4-x_2}{x_4-x_3}&\\cdots&0&0&0\\\\\n",
    "\\cdots&\\cdots&\\cdots&\\cdots&\\cdots&\\cdots&\\cdots&\\cdots\\\\\n",
    "0&0&0&0&\\cdots&1&-\\frac{x_{n-1}-x_{n-3}}{x_{n-1}-x_{n-2}}&\\frac{x_{n-1}-x_{n-3}}{x_{n-1}-x_{n-2}}-1\\\\\n",
    "0&0&0&0&\\cdots&0&1&-1\\\\\n",
    "0&0&0&0&\\cdots&0&0&1\\\\\n",
    "\\end{bmatrix}\\begin{bmatrix}\n",
    "g(x_0)\\\\g(x_1)\\\\\n",
    "g(x_2)\\\\\n",
    "\\cdots\\\\g(x_n)\n",
    "\\end{bmatrix}.$$\n",
    "Verify that $f_n$ is a linear interpolation of $g$."
   ]
  },
  {
   "cell_type": "markdown",
   "id": "ab9b0fac",
   "metadata": {},
   "source": [
    "## 5. Deeper is better \n",
    "Let f be a neural network with $f=\\Delta^{8^2+2}(x)$. Let $g$ be a neural network with 8 layers and $2^8$ nodes.\n",
    "- How many nodes (exclude the input node) and layers does $f$ have in $[0,1]$? \n",
    "- How many peaks does the graph of $f$ have?\n",
    "- How many affine pieces does the graph of $g$ have?\n",
    "- Can $f$ be approximated by $g$ with $\\int_0^1|f-g|<\\frac{1}{32}$? \n",
    "- Why? You can apply the theorem directly."
   ]
  },
  {
   "cell_type": "markdown",
   "id": "3eae27d6",
   "metadata": {},
   "source": [
    "# Coding problems"
   ]
  },
  {
   "cell_type": "markdown",
   "id": "b23cb87e",
   "metadata": {},
   "source": [
    "## 1. Summary.\n",
    "Summerize the general steps in training a neural network."
   ]
  },
  {
   "cell_type": "markdown",
   "id": "53d62d54",
   "metadata": {},
   "source": [
    "## 2. Epidemeology modeling.\n",
    "Here is the ODE solver using Euler's method and implemented with pytorch tensors.  <br> "
   ]
  },
  {
   "cell_type": "code",
   "execution_count": 20,
   "id": "6383727f",
   "metadata": {},
   "outputs": [
    {
     "data": {
      "text/plain": [
       "[<matplotlib.lines.Line2D at 0x1e63c9ac310>]"
      ]
     },
     "execution_count": 20,
     "metadata": {},
     "output_type": "execute_result"
    },
    {
     "data": {
      "image/png": "[encoded data removed]",
      "text/plain": [
       "<Figure size 432x288 with 1 Axes>"
      ]
     },
     "metadata": {
      "needs_background": "light"
     },
     "output_type": "display_data"
    }
   ],
   "source": [
    "import torch\n",
    "import matplotlib.pyplot as plt\n",
    "\n",
    "# parameter values\n",
    "R0 = torch.tensor(2.4)\n",
    "t_infective = torch.tensor(5.1 + 3.3)#average recover time = incubation time + recover time, unit is day\n",
    "\n",
    "# Total population, N. Need to replaced by Arizona population.\n",
    "N = 7276000\n",
    "# initial number of infected and recovered individuals\n",
    "i_initial = torch.tensor(1)\n",
    "r_initial = torch.tensor(0.00)\n",
    "s_initial = N - i_initial - r_initial\n",
    "\n",
    "gamma = 1/t_infective\n",
    "beta = R0*gamma\n",
    "\n",
    "#initiate vectors to store results\n",
    "steps=2000\n",
    "t = torch.linspace(0, 180, steps=steps)\n",
    "#step size h\n",
    "delta_t=t[1]-t[0]\n",
    "S = torch.zeros(steps)\n",
    "I = torch.zeros(steps)\n",
    "R = torch.zeros(steps)\n",
    "#assign initial values\n",
    "S[0]=s_initial\n",
    "I[0]=i_initial\n",
    "R[0]=r_initial\n",
    "\n",
    "# SIR model, differential equations.\n",
    "def sir(x, beta, gamma):\n",
    "    S, I, R = x\n",
    "    dsdt = -beta * S * I /N\n",
    "    didt = beta * S * I /N - gamma * I\n",
    "    drdt =  gamma * I\n",
    "    return [dsdt, didt, drdt]\n",
    "\n",
    "#euler's method implementation\n",
    "for i in range(steps-1):\n",
    "    x = S[i],I[i],R[i]\n",
    "    Sp, Ip, Rp = sir(x, beta, gamma)\n",
    "    S[i+1] = S[i] + delta_t * Sp\n",
    "    I[i+1] = I[i] + delta_t * Ip\n",
    "    R[i+1] = R[i] + delta_t * Rp\n",
    "\n",
    "plt.plot(t,I)  "
   ]
  },
  {
   "cell_type": "markdown",
   "id": "ef6e2ee6",
   "metadata": {},
   "source": [
    "- Extend it to the SIHR model in the following. \n",
    "\\begin{align*}\n",
    "\\frac{dS}{dt} & = -\\frac{\\beta S I}{N} \\\\\n",
    "\\frac{dI}{dt} & = \\frac{\\beta S I}{N} - \\gamma I \\\\\n",
    "\\frac{dH}{dt} & =  \\gamma  f I - c  H \\\\\n",
    "\\frac{dR}{dt} & = \\gamma (1-f) I + c  H\n",
    "\\end{align*}\n",
    "In this model, infected people are progressed to the next stage H (hospitalization) or R (recovered) with the progression rate $\\gamma$. Among these people, about $f=1\\%$ of them developed sever symtoms and were hospitalized in early 2020. For hospitalization people, the daily recover rate is $c=0.17$. \n",
    "\n",
    "- Adjust the infection rate $\\beta$ and progression rate $\\gamma$ manually (or use other methods if you have a better idea), so the solution $H(t)$ matches the first 180 days of Arizona data you ploted in 'Python assignment 5 Panda dataframe solution' reasonably well. \n",
    "\n",
    "- Plot the solution $H(t)$ together with the first 180 days of Arizona hospitalization data together in one figure."
   ]
  },
  {
   "cell_type": "markdown",
   "id": "d7c066e3",
   "metadata": {},
   "source": [
    "Remark. <br>\n",
    "Why do we want this? The ODE solver odeint we used only supports numpy array and doesn't allow gradient computation.  \n",
    "With this torch implementation, methodology development using gradient based algorithms under deep learning framework is possible. <br> \n",
    "Keep in mind that one major goal of epidemeology modeling is to determine the parameters $\\beta$ and $\\gamma$ that fits the actual data and forecast the case number in  the future, it is an optimization problem that gradient based algorithms can apply."
   ]
  },
  {
   "cell_type": "markdown",
   "id": "4db98995",
   "metadata": {},
   "source": [
    "## 3. Class and super class.\n",
    "- Define a class named Ellipse, which can be constructed by major radius and minor radius. \n",
    "- The Ellipse class has two methods which can compute the area and eccentricity. \n",
    "- Define a class named Circle, which inherites from the Ellipse class, and make Ellipse to be the superclass. \n",
    "- Compute Circle(2).area(), and Circle(2).eccentricity()."
   ]
  },
  {
   "cell_type": "markdown",
   "id": "6455be7c",
   "metadata": {},
   "source": [
    "## 4. MNIST handwritten digit database training\n",
    "- Based on the code we developed in class, split 80% of the pictures as training set and the rest to be the test set.\n",
    "- Plot the arccuracy on the test set for every iteration.\n",
    "- You can apply Sigmoid or Softmax to the last layer, it's not required.  "
   ]
  }
 ],
 "metadata": {
  "kernelspec": {
   "display_name": "Python 3 (ipykernel)",
   "language": "python",
   "name": "python3"
  },
  "language_info": {
   "codemirror_mode": {
    "name": "ipython",
    "version": 3
   },
   "file_extension": ".py",
   "mimetype": "text/x-python",
   "name": "python",
   "nbconvert_exporter": "python",
   "pygments_lexer": "ipython3",
   "version": "3.9.7"
  }
 },
 "nbformat": 4,
 "nbformat_minor": 5
}
