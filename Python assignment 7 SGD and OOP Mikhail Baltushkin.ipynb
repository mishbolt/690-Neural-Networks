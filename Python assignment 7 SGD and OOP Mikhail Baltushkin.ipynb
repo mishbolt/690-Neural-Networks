{
 "cells": [
  {
   "cell_type": "markdown",
   "id": "62705f1c",
   "metadata": {},
   "source": [
    "Instruction: Team project. Work with your teamate and submit one file to BBlearn by the end of 4/7/2023.\n",
    "<br> You are allowed to use any resource online or offline. "
   ]
  },
  {
   "cell_type": "markdown",
   "id": "f2dc3f14",
   "metadata": {},
   "source": [
    "1. SGD with momentum\n",
    "<br> Read the following menual, and try to understand the pseudo-code.\n",
    "<br> https://pytorch.org/docs/stable/generated/torch.optim.SGD.html\n",
    "<br> (a) Question: How does the momentum parameter plays a role in the SGD function?"
   ]
  },
  {
   "cell_type": "markdown",
   "id": "af74e1af",
   "metadata": {},
   "source": [
    "Answer:"
   ]
  },
  {
   "cell_type": "markdown",
   "id": "6a9acdbc",
   "metadata": {},
   "source": [
    "(b) Add the momentum parameter in the following code (an example we did in class), plot the loss function before and after adding the momentum parameter, and see which one goes faster. If you set up the parameter correctly, you should see a faster convergence."
   ]
  },
  {
   "cell_type": "code",
   "execution_count": 8,
   "id": "a00b83e2",
   "metadata": {},
   "outputs": [
    {
     "name": "stdout",
     "output_type": "stream",
     "text": [
      "torch.Size([100, 1])\n",
      "torch.Size([100])\n",
      "epoch:0, loss =5857.5098\n",
      "epoch:10, loss =4337.7192\n",
      "epoch:20, loss =3238.6804\n",
      "epoch:30, loss =2443.0286\n",
      "epoch:40, loss =1866.4235\n",
      "epoch:50, loss =1448.1630\n",
      "epoch:60, loss =1144.4966\n",
      "epoch:70, loss =923.8503\n",
      "epoch:80, loss =763.4075\n",
      "epoch:90, loss =646.6614\n",
      "epoch:100, loss =561.6575\n",
      "epoch:110, loss =499.7303\n",
      "epoch:120, loss =454.5909\n",
      "epoch:130, loss =421.6723\n",
      "epoch:140, loss =397.6554\n",
      "epoch:150, loss =380.1260\n",
      "epoch:160, loss =367.3270\n",
      "epoch:170, loss =357.9788\n",
      "epoch:180, loss =351.1488\n",
      "epoch:190, loss =346.1573\n"
     ]
    }
   ],
   "source": [
    "import torch\n",
    "import torch.nn as nn\n",
    "import numpy as np\n",
    "from sklearn import datasets\n",
    "import matplotlib.pyplot as plt\n",
    "# 0. prepare data\n",
    "x_np,y_np = datasets.make_regression(n_samples=100,n_features=1,noise=20,random_state=1)\n",
    "#convert to torch tensor, it was double data type, want to convert to float32\n",
    "x=torch.from_numpy(x_np.astype(np.float32))\n",
    "y=torch.from_numpy(y_np.astype(np.float32))\n",
    "print(x.shape)\n",
    "print(y.shape)\n",
    "#want to change the shape of y to one column\n",
    "y=y.view(y.shape[0],1)\n",
    "#print(y)\n",
    "n_samples,n_features=x.shape\n",
    "# 1. model\n",
    "input_size=n_features\n",
    "output_size=1\n",
    "model=nn.Linear(input_size,output_size)\n",
    "# 2. loss and optimizer\n",
    "learning_rate=0.01\n",
    "loss_nn=nn.MSELoss()\n",
    "optimizer=torch.optim.SGD(model.parameters(),lr=learning_rate)\n",
    "# 3. training loop\n",
    "n_epochs=200\n",
    "#save loss for figure\n",
    "l_no_momt=torch.ones(n_epochs)\n",
    "w_no_momt=torch.ones(n_epochs)\n",
    "b_no_momt=torch.ones(n_epochs)\n",
    "for epoch in range(n_epochs):\n",
    "    \n",
    "    #forward pass\n",
    "    y_predicted = model(x)\n",
    "    loss = loss_nn(y_predicted,y)\n",
    "    \n",
    "    #backward pass\n",
    "    loss.backward()\n",
    "    \n",
    "    #update\n",
    "    optimizer.step()\n",
    "    \n",
    "    optimizer.zero_grad()\n",
    "    \n",
    "    [w, b] = model.parameters()\n",
    "        \n",
    "    if epoch%10==0:\n",
    "        print(f'epoch:{epoch}, loss ={loss.item():.4f}')\n",
    "    \n",
    "    l_no_momt[epoch]=loss.item()\n",
    "    w_no_momt[epoch]=w.item()\n",
    "    b_no_momt[epoch]=b.item()"
   ]
  },
  {
   "cell_type": "code",
   "execution_count": 7,
   "id": "cbe5a4a9",
   "metadata": {},
   "outputs": [
    {
     "data": {
      "text/plain": [
       "[<matplotlib.lines.Line2D at 0x289e330b550>]"
      ]
     },
     "execution_count": 7,
     "metadata": {},
     "output_type": "execute_result"
    },
    {
     "data": {
      "image/png": "[encoded data removed]",
      "text/plain": [
       "<Figure size 432x288 with 1 Axes>"
      ]
     },
     "metadata": {
      "needs_background": "light"
     },
     "output_type": "display_data"
    }
   ],
   "source": [
    "plt.plot(l_no_momt)"
   ]
  },
  {
   "cell_type": "markdown",
   "id": "c7112b65",
   "metadata": {},
   "source": [
    "2.  Object Oriented Programming (OOP)\n",
    "<br> To better understand how Pytorch, or in gerneral how Python class works, we covered the OOP in class. \n",
    "<br> Define a class named my_matrix. In this class, implement the following methods \n",
    "    - shape: return the number of rows, and number of columns\n",
    "    - get: that take the number of rows, the number of columns as parameters, and returns the content of cell corresponding to row number col number \n",
    "    - scalar_mult: that take a scalar and return a new matrix which is the scalar product of matrix x val\n",
    "    \n",
    "Reate an example to test if your class is functioning as you expected."
   ]
  },
  {
   "cell_type": "code",
   "execution_count": 13,
   "id": "910ae20c",
   "metadata": {},
   "outputs": [],
   "source": [
    "import numpy as np\n",
    "class my_matrix:\n",
    "    def __init__(self,matrix):\n",
    "        self.matrix = matrix\n",
    "    def shape(self):\n",
    "        return self.matrix.shape\n",
    "    def get(self,row,col):\n",
    "        return self.matrix[row,col]\n",
    "    def scalar_mult(self,c):\n",
    "        return c*self.matrix\n",
    "        \n",
    "        \n",
    "    "
   ]
  },
  {
   "cell_type": "code",
   "execution_count": 14,
   "id": "7ba8e055",
   "metadata": {},
   "outputs": [
    {
     "name": "stdout",
     "output_type": "stream",
     "text": [
      "[[1 2 3]\n",
      " [4 5 6]]\n"
     ]
    },
    {
     "data": {
      "text/plain": [
       "array([[ 2,  4,  6],\n",
       "       [ 8, 10, 12]])"
      ]
     },
     "execution_count": 14,
     "metadata": {},
     "output_type": "execute_result"
    }
   ],
   "source": [
    "A = np.array([[1,2,3],[4,5,6]])\n",
    "print(A)\n",
    "c = my_matrix(A)\n",
    "c.scalar_mult(2)"
   ]
  },
  {
   "cell_type": "code",
   "execution_count": 26,
   "id": "0c3ffae9",
   "metadata": {},
   "outputs": [],
   "source": [
    "class m2vector(my_matrix):\n",
    "    def resize(self,row):\n",
    "        if row==1:\n",
    "            self.matrix = self.matrix.reshape(1,self.shape()[0]*self.shape()[1])"
   ]
  },
  {
   "cell_type": "code",
   "execution_count": 27,
   "id": "c1e6618c",
   "metadata": {},
   "outputs": [
    {
     "name": "stdout",
     "output_type": "stream",
     "text": [
      "None\n"
     ]
    },
    {
     "data": {
      "text/plain": [
       "array([[1, 2, 3, 4, 5, 6]])"
      ]
     },
     "execution_count": 27,
     "metadata": {},
     "output_type": "execute_result"
    }
   ],
   "source": [
    "a=m2vector(A)\n",
    "print(a.resize(1))\n",
    "a.matrix"
   ]
  },
  {
   "cell_type": "markdown",
   "id": "5e92a0ae",
   "metadata": {},
   "source": [
    "3.  Inherite the class you defined in problem 2 to define the new class named m2vector. Add the following method\n",
    "- resize: resize the matrix to have only one row if the parameter row=1, otherwise, resize it to a column vector."
   ]
  },
  {
   "cell_type": "markdown",
   "id": "8f73de76",
   "metadata": {},
   "source": [
    "4. Super class. More to come"
   ]
  }
 ],
 "metadata": {
  "kernelspec": {
   "display_name": "Python 3 (ipykernel)",
   "language": "python",
   "name": "python3"
  },
  "language_info": {
   "codemirror_mode": {
    "name": "ipython",
    "version": 3
   },
   "file_extension": ".py",
   "mimetype": "text/x-python",
   "name": "python",
   "nbconvert_exporter": "python",
   "pygments_lexer": "ipython3",
   "version": "3.9.7"
  }
 },
 "nbformat": 4,
 "nbformat_minor": 5
}
